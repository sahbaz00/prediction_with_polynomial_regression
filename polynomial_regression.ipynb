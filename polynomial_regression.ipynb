{
 "cells": [
  {
   "cell_type": "code",
   "execution_count": 37,
   "metadata": {},
   "outputs": [],
   "source": [
    "import numpy as np\n",
    "import pandas as pd\n",
    "pd.set_option(\"display.max_columns\", None)\n",
    "from polynomial_scratch import PolynomialRegression\n",
    "from sklearn.preprocessing import StandardScaler"
   ]
  },
  {
   "cell_type": "code",
   "execution_count": 38,
   "metadata": {},
   "outputs": [
    {
     "name": "stdout",
     "output_type": "stream",
     "text": [
      "      Id  Open Date  City Group  Type  P1   P2   P3   P4  P5  P6  P7  P8  P9  \\\n",
      "0      0       1999           0     2   4  5.0  4.0  4.0   2   2   5   4   5   \n",
      "1      1       2008           0     1   4  5.0  4.0  4.0   1   2   5   5   5   \n",
      "2      2       2013           1     2   2  4.0  2.0  5.0   2   3   5   5   5   \n",
      "3      3       2012           1     2   6  4.5  6.0  6.0   4   4  10   8  10   \n",
      "4      4       2009           1     2   3  4.0  3.0  4.0   2   2   5   5   5   \n",
      "..   ...        ...         ...   ...  ..  ...  ...  ...  ..  ..  ..  ..  ..   \n",
      "132  132       2008           1     1   2  3.0  3.0  5.0   4   2   4   4   4   \n",
      "133  133       2006           0     1   4  5.0  4.0  4.0   2   3   5   4   4   \n",
      "134  134       2006           1     1   3  4.0  4.0  4.0   2   3   5   5   5   \n",
      "135  135       2010           0     1   4  5.0  4.0  5.0   2   2   5   5   5   \n",
      "136  136       2009           0     1   4  5.0  3.0  5.0   2   2   5   4   4   \n",
      "\n",
      "     P10  P11  P12  P13  P14  P15  P16  P17  P18  P19  P20  P21  P22  P23  \\\n",
      "0      5    3    5  5.0    1    2    2    2    4    5    4    1    3    3   \n",
      "1      5    1    5  5.0    0    0    0    0    0    3    2    1    3    2   \n",
      "2      5    2    5  5.0    0    0    0    0    0    1    1    1    1    1   \n",
      "3     10    8   10  7.5    6    4    9    3   12   20   12    6    1   10   \n",
      "4      5    2    5  5.0    2    1    2    1    4    2    2    1    2    1   \n",
      "..   ...  ...  ...  ...  ...  ...  ...  ...  ...  ...  ...  ...  ...  ...   \n",
      "132    4    4    4  4.0    0    0    0    0    0    4    3    2    1    1   \n",
      "133    5    5    4  5.0    0    0    0    0    0    3    2    2    1    1   \n",
      "134    5    1    5  5.0    0    0    0    0    0    2    3    1    2    2   \n",
      "135    5    2    5  5.0    0    0    0    0    0    1    1    1    1    1   \n",
      "136    5    4    4  5.0    0    0    0    0    0    2    1    1    1    1   \n",
      "\n",
      "     P24  P25  P26  P27  P28  P29  P30  P31  P32  P33  P34  P35  P36  P37  \\\n",
      "0      1    1  1.0  4.0  2.0  3.0    5    3    4    5    5    4    3    4   \n",
      "1      0    0  0.0  0.0  3.0  3.0    0    0    0    0    0    0    0    0   \n",
      "2      0    0  0.0  0.0  1.0  3.0    0    0    0    0    0    0    0    0   \n",
      "3      2    2  2.5  2.5  2.5  7.5   25   12   10    6   18   12   12    6   \n",
      "4      2    3  3.0  5.0  1.0  3.0    5    1    3    2    3    4    3    3   \n",
      "..   ...  ...  ...  ...  ...  ...  ...  ...  ...  ...  ...  ...  ...  ...   \n",
      "132    0    0  0.0  0.0  2.0  3.0    0    0    0    0    0    0    0    0   \n",
      "133    0    0  0.0  0.0  3.0  3.0    0    0    0    0    0    0    0    0   \n",
      "134    0    0  0.0  0.0  2.0  3.0    0    0    0    0    0    0    0    0   \n",
      "135    0    0  0.0  0.0  3.0  3.0    0    0    0    0    0    0    0    0   \n",
      "136    0    0  0.0  0.0  3.0  3.0    0    0    0    0    0    0    0    0   \n",
      "\n",
      "       revenue  \n",
      "0    5653753.0  \n",
      "1    6923131.0  \n",
      "2    2055379.0  \n",
      "3    2675511.0  \n",
      "4    4316715.0  \n",
      "..         ...  \n",
      "132  5787594.0  \n",
      "133  9262754.0  \n",
      "134  2544857.0  \n",
      "135  7217634.0  \n",
      "136  6363241.0  \n",
      "\n",
      "[137 rows x 42 columns]\n"
     ]
    }
   ],
   "source": [
    "train_dataset = pd.read_csv(\"processed_train.csv\")\n",
    "print(train_dataset)"
   ]
  },
  {
   "cell_type": "code",
   "execution_count": 39,
   "metadata": {},
   "outputs": [],
   "source": [
    "X_train = train_dataset.iloc[:,1:-1].values\n",
    "y_train = train_dataset.iloc[:,-1].values"
   ]
  },
  {
   "cell_type": "code",
   "execution_count": 40,
   "metadata": {},
   "outputs": [],
   "source": [
    "scaler = StandardScaler()\n",
    "X_train = scaler.fit_transform(X_train)"
   ]
  },
  {
   "cell_type": "code",
   "execution_count": 41,
   "metadata": {},
   "outputs": [
    {
     "data": {
      "text/plain": [
       "array([[-2.41208951, -0.86971849,  1.11702464, ...,  0.57563408,\n",
       "         0.18982104,  1.61595083],\n",
       "       [-0.1691737 , -0.86971849, -0.8449289 , ..., -0.59268991,\n",
       "        -0.53255348, -0.62592526],\n",
       "       [ 1.07689064,  1.14979733,  1.11702464, ..., -0.59268991,\n",
       "        -0.53255348, -0.62592526],\n",
       "       ...,\n",
       "       [-0.66759943,  1.14979733, -0.8449289 , ..., -0.59268991,\n",
       "        -0.53255348, -0.62592526],\n",
       "       [ 0.32925204, -0.86971849, -0.8449289 , ..., -0.59268991,\n",
       "        -0.53255348, -0.62592526],\n",
       "       [ 0.08003917, -0.86971849, -0.8449289 , ..., -0.59268991,\n",
       "        -0.53255348, -0.62592526]])"
      ]
     },
     "execution_count": 41,
     "metadata": {},
     "output_type": "execute_result"
    }
   ],
   "source": [
    "X_train"
   ]
  },
  {
   "attachments": {},
   "cell_type": "markdown",
   "metadata": {},
   "source": [
    "# With SKLEARN"
   ]
  },
  {
   "cell_type": "code",
   "execution_count": 42,
   "metadata": {},
   "outputs": [
    {
     "data": {
      "text/html": [
       "<style>#sk-container-id-4 {color: black;background-color: white;}#sk-container-id-4 pre{padding: 0;}#sk-container-id-4 div.sk-toggleable {background-color: white;}#sk-container-id-4 label.sk-toggleable__label {cursor: pointer;display: block;width: 100%;margin-bottom: 0;padding: 0.3em;box-sizing: border-box;text-align: center;}#sk-container-id-4 label.sk-toggleable__label-arrow:before {content: \"▸\";float: left;margin-right: 0.25em;color: #696969;}#sk-container-id-4 label.sk-toggleable__label-arrow:hover:before {color: black;}#sk-container-id-4 div.sk-estimator:hover label.sk-toggleable__label-arrow:before {color: black;}#sk-container-id-4 div.sk-toggleable__content {max-height: 0;max-width: 0;overflow: hidden;text-align: left;background-color: #f0f8ff;}#sk-container-id-4 div.sk-toggleable__content pre {margin: 0.2em;color: black;border-radius: 0.25em;background-color: #f0f8ff;}#sk-container-id-4 input.sk-toggleable__control:checked~div.sk-toggleable__content {max-height: 200px;max-width: 100%;overflow: auto;}#sk-container-id-4 input.sk-toggleable__control:checked~label.sk-toggleable__label-arrow:before {content: \"▾\";}#sk-container-id-4 div.sk-estimator input.sk-toggleable__control:checked~label.sk-toggleable__label {background-color: #d4ebff;}#sk-container-id-4 div.sk-label input.sk-toggleable__control:checked~label.sk-toggleable__label {background-color: #d4ebff;}#sk-container-id-4 input.sk-hidden--visually {border: 0;clip: rect(1px 1px 1px 1px);clip: rect(1px, 1px, 1px, 1px);height: 1px;margin: -1px;overflow: hidden;padding: 0;position: absolute;width: 1px;}#sk-container-id-4 div.sk-estimator {font-family: monospace;background-color: #f0f8ff;border: 1px dotted black;border-radius: 0.25em;box-sizing: border-box;margin-bottom: 0.5em;}#sk-container-id-4 div.sk-estimator:hover {background-color: #d4ebff;}#sk-container-id-4 div.sk-parallel-item::after {content: \"\";width: 100%;border-bottom: 1px solid gray;flex-grow: 1;}#sk-container-id-4 div.sk-label:hover label.sk-toggleable__label {background-color: #d4ebff;}#sk-container-id-4 div.sk-serial::before {content: \"\";position: absolute;border-left: 1px solid gray;box-sizing: border-box;top: 0;bottom: 0;left: 50%;z-index: 0;}#sk-container-id-4 div.sk-serial {display: flex;flex-direction: column;align-items: center;background-color: white;padding-right: 0.2em;padding-left: 0.2em;position: relative;}#sk-container-id-4 div.sk-item {position: relative;z-index: 1;}#sk-container-id-4 div.sk-parallel {display: flex;align-items: stretch;justify-content: center;background-color: white;position: relative;}#sk-container-id-4 div.sk-item::before, #sk-container-id-4 div.sk-parallel-item::before {content: \"\";position: absolute;border-left: 1px solid gray;box-sizing: border-box;top: 0;bottom: 0;left: 50%;z-index: -1;}#sk-container-id-4 div.sk-parallel-item {display: flex;flex-direction: column;z-index: 1;position: relative;background-color: white;}#sk-container-id-4 div.sk-parallel-item:first-child::after {align-self: flex-end;width: 50%;}#sk-container-id-4 div.sk-parallel-item:last-child::after {align-self: flex-start;width: 50%;}#sk-container-id-4 div.sk-parallel-item:only-child::after {width: 0;}#sk-container-id-4 div.sk-dashed-wrapped {border: 1px dashed gray;margin: 0 0.4em 0.5em 0.4em;box-sizing: border-box;padding-bottom: 0.4em;background-color: white;}#sk-container-id-4 div.sk-label label {font-family: monospace;font-weight: bold;display: inline-block;line-height: 1.2em;}#sk-container-id-4 div.sk-label-container {text-align: center;}#sk-container-id-4 div.sk-container {/* jupyter's `normalize.less` sets `[hidden] { display: none; }` but bootstrap.min.css set `[hidden] { display: none !important; }` so we also need the `!important` here to be able to override the default hidden behavior on the sphinx rendered scikit-learn.org. See: https://github.com/scikit-learn/scikit-learn/issues/21755 */display: inline-block !important;position: relative;}#sk-container-id-4 div.sk-text-repr-fallback {display: none;}</style><div id=\"sk-container-id-4\" class=\"sk-top-container\"><div class=\"sk-text-repr-fallback\"><pre>LinearRegression()</pre><b>In a Jupyter environment, please rerun this cell to show the HTML representation or trust the notebook. <br />On GitHub, the HTML representation is unable to render, please try loading this page with nbviewer.org.</b></div><div class=\"sk-container\" hidden><div class=\"sk-item\"><div class=\"sk-estimator sk-toggleable\"><input class=\"sk-toggleable__control sk-hidden--visually\" id=\"sk-estimator-id-4\" type=\"checkbox\" checked><label for=\"sk-estimator-id-4\" class=\"sk-toggleable__label sk-toggleable__label-arrow\">LinearRegression</label><div class=\"sk-toggleable__content\"><pre>LinearRegression()</pre></div></div></div></div></div>"
      ],
      "text/plain": [
       "LinearRegression()"
      ]
     },
     "execution_count": 42,
     "metadata": {},
     "output_type": "execute_result"
    }
   ],
   "source": [
    "from sklearn.preprocessing import PolynomialFeatures\n",
    "from sklearn.linear_model import LinearRegression\n",
    "\n",
    "polynomial = PolynomialFeatures()\n",
    "X_train_poly = polynomial.fit_transform(X_train)\n",
    "\n",
    "regressor = LinearRegression()\n",
    "regressor.fit(X_train_poly, y_train)"
   ]
  },
  {
   "cell_type": "code",
   "execution_count": 43,
   "metadata": {},
   "outputs": [
    {
     "data": {
      "text/plain": [
       "2"
      ]
     },
     "execution_count": 43,
     "metadata": {},
     "output_type": "execute_result"
    }
   ],
   "source": [
    "polynomial.degree"
   ]
  },
  {
   "attachments": {},
   "cell_type": "markdown",
   "metadata": {},
   "source": [
    "# With SCRATCH"
   ]
  },
  {
   "cell_type": "code",
   "execution_count": 44,
   "metadata": {},
   "outputs": [
    {
     "data": {
      "text/plain": [
       "137"
      ]
     },
     "execution_count": 44,
     "metadata": {},
     "output_type": "execute_result"
    }
   ],
   "source": [
    "len(X_train)"
   ]
  },
  {
   "cell_type": "code",
   "execution_count": 45,
   "metadata": {},
   "outputs": [],
   "source": [
    "from polynomial_scratch import PolynomialRegression\n",
    "\n",
    "poly_regressor = PolynomialRegression(degree=2)\n",
    "poly_regressor.fit(X_train, y_train)"
   ]
  },
  {
   "attachments": {},
   "cell_type": "markdown",
   "metadata": {},
   "source": [
    "# Test data"
   ]
  },
  {
   "cell_type": "code",
   "execution_count": 46,
   "metadata": {},
   "outputs": [
    {
     "name": "stdout",
     "output_type": "stream",
     "text": [
      "          Id  Open Date  City Group  Type  P1   P2   P3   P4  P5  P6  P7  P8  \\\n",
      "0          0       2011           1     1   1  4.0  4.0  4.0   1   2   5   4   \n",
      "1          1       2011           1     2   3  4.0  4.0  4.0   2   2   5   3   \n",
      "2          2       2013           0     1   3  4.0  4.0  4.0   2   2   5   4   \n",
      "3          3       2013           1     2   2  4.0  4.0  4.0   2   3   5   4   \n",
      "4          4       2013           1     1   2  4.0  4.0  4.0   1   2   5   4   \n",
      "...      ...        ...         ...   ...  ..  ...  ...  ...  ..  ..  ..  ..   \n",
      "99995  99995       2000           1     1   5  5.0  4.0  4.0   2   2   5   5   \n",
      "99996  99996       2011           1     2   1  2.0  4.0  3.0   1   1   1   5   \n",
      "99997  99997       2012           0     2   4  5.0  4.0  4.0   1   2   5   3   \n",
      "99998  99998       2013           0     1  12  7.5  6.0  6.0   4   4  10  10   \n",
      "99999  99999       2010           0     2   2  5.0  4.0  4.0   2   2   5   5   \n",
      "\n",
      "       P9  P10  P11  P12  P13  P14  P15  P16  P17  P18  P19  P20  P21  P22  \\\n",
      "0       5    5    5    3  4.0    0    0    0    2    0    5    5    3    1   \n",
      "1       4    4    2    4  5.0    0    0    0    0    0    5    5    3    2   \n",
      "2       4    5    4    5  5.0    0    0    0    0    0    5    5    5    5   \n",
      "3       5    4    3    4  5.0    0    0    0    0    4    4    4    3    2   \n",
      "4       5    4    3    5  4.0    0    0    0    0    0    1    5    3    1   \n",
      "...    ..  ...  ...  ...  ...  ...  ...  ...  ...  ...  ...  ...  ...  ...   \n",
      "99995   4    4    4    4  4.0    0    0    0    0    0    3    1    1    3   \n",
      "99996   5    5    2    4  5.0    0    0    0    1    0    1    1    1    1   \n",
      "99997   4    5    5    4  5.0    0    4    4    3    3    3    5    4    5   \n",
      "99998  10   10    6   10  7.5    0    0    0    0    0   20    9    3    3   \n",
      "99999   5    4    4    4  5.0    5    0    0    1    1    5    4    1    2   \n",
      "\n",
      "       P23  P24  P25  P26  P27  P28  P29  P30  P31  P32  P33  P34  P35  P36  \\\n",
      "0        4    0    0  0.0  0.0  2.0  3.0    0    0    0    0    0    0    0   \n",
      "1        1    0    0  0.0  0.0  1.0  3.0    0    0    0    0    0    0    0   \n",
      "2        5    0    0  0.0  0.0  2.0  3.0    0    0    0    0    0    0    0   \n",
      "3        2    0    0  0.0  0.0  2.0  3.0    0    4    0    0    0    0    0   \n",
      "4        1    0    0  0.0  0.0  5.0  3.0    0    0    0    0    0    0    0   \n",
      "...    ...  ...  ...  ...  ...  ...  ...  ...  ...  ...  ...  ...  ...  ...   \n",
      "99995    2    0    0  0.0  0.0  2.0  3.0    0    0    0    0    0    0    0   \n",
      "99996    2    0    0  0.0  0.0  1.0  3.0    5    0    0    0    4    0    0   \n",
      "99997    5    4    4  4.0  3.0  4.0  1.0    5    5    3    2    4    4    4   \n",
      "99998   15    0    2  0.0  0.0  7.5  5.0    0    0    0    4    0    0    0   \n",
      "99999    1    5    0  0.0  1.0  5.0  3.0    0    2    0    2    2    4    2   \n",
      "\n",
      "       P37  \n",
      "0        0  \n",
      "1        0  \n",
      "2        0  \n",
      "3        0  \n",
      "4        0  \n",
      "...    ...  \n",
      "99995    0  \n",
      "99996    0  \n",
      "99997    2  \n",
      "99998    0  \n",
      "99999    0  \n",
      "\n",
      "[100000 rows x 41 columns]\n"
     ]
    }
   ],
   "source": [
    "test_dataset = pd.read_csv(\"processed_test.csv\")\n",
    "print(test_dataset)"
   ]
  },
  {
   "cell_type": "code",
   "execution_count": 47,
   "metadata": {},
   "outputs": [],
   "source": [
    "X_test = test_dataset.iloc[:, 1:].values\n",
    "X_test = scaler.transform(X_test)"
   ]
  },
  {
   "attachments": {},
   "cell_type": "markdown",
   "metadata": {},
   "source": [
    "# Comparing between Scratch and Sklearn"
   ]
  },
  {
   "cell_type": "code",
   "execution_count": 48,
   "metadata": {},
   "outputs": [
    {
     "name": "stdout",
     "output_type": "stream",
     "text": [
      "2555338851333.2974\n",
      "2.7119188509802274e-15\n"
     ]
    }
   ],
   "source": [
    "from sklearn.metrics import mean_squared_error\n",
    "\n",
    "mse_scratch = mean_squared_error(y_train, poly_regressor.predict(X_train))\n",
    "print(mse_scratch)\n",
    "\n",
    "mse_sk = mean_squared_error(y_train, regressor.predict(polynomial.transform(X_train)))\n",
    "print(mse_sk)"
   ]
  }
 ],
 "metadata": {
  "kernelspec": {
   "display_name": "Python 3",
   "language": "python",
   "name": "python3"
  },
  "language_info": {
   "codemirror_mode": {
    "name": "ipython",
    "version": 3
   },
   "file_extension": ".py",
   "mimetype": "text/x-python",
   "name": "python",
   "nbconvert_exporter": "python",
   "pygments_lexer": "ipython3",
   "version": "3.10.5"
  },
  "orig_nbformat": 4
 },
 "nbformat": 4,
 "nbformat_minor": 2
}
